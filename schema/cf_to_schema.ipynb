{
 "cells": [
  {
   "cell_type": "code",
   "execution_count": 1,
   "id": "a145bdb1",
   "metadata": {},
   "outputs": [],
   "source": [
    "import json\n",
    "import xarray as xr\n"
   ]
  },
  {
   "cell_type": "code",
   "execution_count": 2,
   "id": "7282ca10",
   "metadata": {},
   "outputs": [],
   "source": [
    "file_path = \"/home/kobrien/schema/MEOP_profiles_v2024_b58d_3806_3fe3.nc\"\n",
    "ds = xr.open_dataset(file_path, decode_times=False)\n",
    "attrs = ds.attrs\n"
   ]
  },
  {
   "cell_type": "code",
   "execution_count": 3,
   "id": "e0778e7c",
   "metadata": {},
   "outputs": [],
   "source": [
    "# Known mappings from CF -> schema.org\n",
    "known_mappings = {\n",
    "    \"title\": \"name\",\n",
    "    \"summary\": \"description\",\n",
    "    \"creator_name\": \"creator\",\n",
    "    \"institution\": \"publisher\",\n",
    "    \"keywords\": \"keywords\",\n",
    "    \"license\": \"license\",\n",
    "    \"references\": \"citation\",\n",
    "    \"source\": \"measurementTechnique\",\n",
    "    \"geospatial_lat_min\": \"lat_min\",\n",
    "    \"geospatial_lat_max\": \"lat_max\",\n",
    "    \"geospatial_lon_min\": \"lon_min\",\n",
    "    \"geospatial_lon_max\": \"lon_max\",\n",
    "    \"time_coverage_start\": \"time_start\",\n",
    "    \"time_coverage_end\": \"time_end\"\n",
    "}\n"
   ]
  },
  {
   "cell_type": "code",
   "execution_count": 4,
   "id": "94139fad",
   "metadata": {},
   "outputs": [],
   "source": [
    "# Initialize schema.org Dataset\n",
    "jsonld = {\n",
    "    \"@context\": \"https://schema.org/\",\n",
    "    \"@type\": \"Dataset\",\n",
    "    \"distribution\": {\n",
    "        \"@type\": \"DataDownload\",\n",
    "        \"encodingFormat\": \"application/x-netcdf\",\n",
    "        \"contentUrl\": \"https://example.org/data/MEOP_profiles_v2024.nc\"\n",
    "    },\n",
    "    \"additionalProperty\": []\n",
    "}\n"
   ]
  },
  {
   "cell_type": "code",
   "execution_count": 5,
   "id": "550a2f71",
   "metadata": {},
   "outputs": [],
   "source": [
    "# Handle known fields\n",
    "if \"title\" in attrs:\n",
    "    jsonld[\"name\"] = attrs[\"title\"]\n",
    "if \"summary\" in attrs:\n",
    "    jsonld[\"description\"] = attrs[\"summary\"]\n",
    "if \"creator_name\" in attrs:\n",
    "    jsonld[\"creator\"] = { \"@type\": \"Organization\", \"name\": attrs[\"creator_name\"] }\n",
    "if \"institution\" in attrs:\n",
    "    jsonld[\"publisher\"] = { \"@type\": \"Organization\", \"name\": attrs[\"institution\"] }\n",
    "if \"keywords\" in attrs:\n",
    "    jsonld[\"keywords\"] = attrs[\"keywords\"].split(\", \")\n",
    "if \"license\" in attrs:\n",
    "    jsonld[\"license\"] = attrs[\"license\"]\n",
    "if \"references\" in attrs:\n",
    "    jsonld[\"citation\"] = attrs[\"references\"]\n",
    "if \"source\" in attrs:\n",
    "    jsonld[\"measurementTechnique\"] = attrs[\"source\"]\n"
   ]
  },
  {
   "cell_type": "code",
   "execution_count": 6,
   "id": "47327cd4",
   "metadata": {},
   "outputs": [],
   "source": [
    "# Add spatial/temporal coverage if available\n",
    "lat_min = attrs.get(\"geospatial_lat_min\")\n",
    "lat_max = attrs.get(\"geospatial_lat_max\")\n",
    "lon_min = attrs.get(\"geospatial_lon_min\")\n",
    "lon_max = attrs.get(\"geospatial_lon_max\")\n",
    "if lat_min and lat_max and lon_min and lon_max:\n",
    "    jsonld[\"spatialCoverage\"] = {\n",
    "        \"@type\": \"Place\",\n",
    "        \"geo\": {\n",
    "            \"@type\": \"GeoShape\",\n",
    "            \"box\": f\"{lat_min} {lon_min} {lat_max} {lon_max}\"\n",
    "        }\n",
    "    }\n",
    "time_start = attrs.get(\"time_coverage_start\")\n",
    "time_end = attrs.get(\"time_coverage_end\")\n",
    "if time_start and time_end:\n",
    "    jsonld[\"temporalCoverage\"] = f\"{time_start}/{time_end}\"\n"
   ]
  },
  {
   "cell_type": "code",
   "execution_count": null,
   "id": "7f209a43",
   "metadata": {},
   "outputs": [],
   "source": []
  },
  {
   "cell_type": "code",
   "execution_count": 7,
   "id": "3cd5bc7a",
   "metadata": {},
   "outputs": [],
   "source": [
    "# Add all remaining global attributes to additionalProperty\n",
    "for key, value in attrs.items():\n",
    "    if key not in known_mappings:\n",
    "        if (type(value).__name__ == \"str\"):\n",
    "            myType =  \"Text\"\n",
    "        if (type(value).__name__ == \"float64\"):\n",
    "            myType = \"Number\"        \n",
    "        jsonld[\"additionalProperty\"].append({\n",
    "            \"@type\": \"PropertyValue\",\n",
    "            \"propertyID\": key,\n",
    "            \"value\": str(value),\n",
    "            \"type\": myType\n",
    "        })\n"
   ]
  },
  {
   "cell_type": "code",
   "execution_count": 8,
   "id": "43248eda",
   "metadata": {},
   "outputs": [
    {
     "data": {
      "text/plain": [
       "'/home/kobrien/notebooks/schema/MEOP_profiles_v2024_schemaorg_all2.jsonld'"
      ]
     },
     "execution_count": 8,
     "metadata": {},
     "output_type": "execute_result"
    }
   ],
   "source": [
    "# Save JSON-LD\n",
    "output_path = \"/home/kobrien/notebooks/schema/MEOP_profiles_v2024_schemaorg_all2.jsonld\"\n",
    "with open(output_path, \"w\") as f:\n",
    "    json.dump(jsonld, f, indent=2)\n",
    "\n",
    "output_path\n"
   ]
  },
  {
   "cell_type": "code",
   "execution_count": null,
   "id": "35615fbb",
   "metadata": {},
   "outputs": [],
   "source": []
  }
 ],
 "metadata": {
  "kernelspec": {
   "display_name": "Python 3 (ipykernel)",
   "language": "python",
   "name": "python3"
  },
  "language_info": {
   "codemirror_mode": {
    "name": "ipython",
    "version": 3
   },
   "file_extension": ".py",
   "mimetype": "text/x-python",
   "name": "python",
   "nbconvert_exporter": "python",
   "pygments_lexer": "ipython3",
   "version": "3.8.18"
  }
 },
 "nbformat": 4,
 "nbformat_minor": 5
}
