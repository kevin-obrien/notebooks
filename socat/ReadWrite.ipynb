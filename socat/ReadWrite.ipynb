{
 "cells": [
  {
   "cell_type": "markdown",
   "metadata": {},
   "source": [
    "This is the current version.\n",
    "\n",
    "Running with an ERDDAP URL was many time slower to load.\n",
    "\n",
    "This version does each plot individually and composes them in a GridSpec panel."
   ]
  },
  {
   "cell_type": "code",
   "execution_count": 40,
   "metadata": {},
   "outputs": [],
   "source": [
    "import pandas as pd\n",
    "#import utility as u\n",
    "import numpy as np\n",
    "import datetime\n",
    "from erddapy import ERDDAP\n",
    "import datetime\n",
    "#import colorcet as cc"
   ]
  },
  {
   "cell_type": "code",
   "execution_count": 41,
   "metadata": {},
   "outputs": [],
   "source": [
    "e_socat = ERDDAP(\n",
    "    server=\"https://data.pmel.noaa.gov/socat/erddap\",\n",
    "    protocol=\"tabledap\",\n",
    "    response=\"csv\",\n",
    ")\n",
    "e_socat.dataset_id = \"socat_v2024_fulldata\"\n",
    "e_socat.variables=[\"fCO2_recommended\", \"region_id\", \"time\"]\n",
    "e_socat.constraints = {\n",
    "    \"time>=2001-01-01\",\n",
    "    \"time<=2001-02-01\",\n",
    "}\n"
   ]
  },
  {
   "cell_type": "code",
   "execution_count": null,
   "metadata": {},
   "outputs": [],
   "source": []
  },
  {
   "cell_type": "code",
   "execution_count": 24,
   "metadata": {},
   "outputs": [
    {
     "name": "stdout",
     "output_type": "stream",
     "text": [
      "https://data.pmel.noaa.gov/socat/erddap/tabledap/socat_v2024_fulldata.csv?fCO2_recommended%2Cregion_id%2Ctime&organization=%22NOAA%20PMEL%22&time%3E=2001-01-01&time%3C=2001-07-01\n"
     ]
    }
   ],
   "source": [
    "#df = e_socat.to_pandas()\n",
    "url = \"https://data.pmel.noaa.gov/socat/erddap/tabledap/socat_v2024_fulldata.csv?fCO2_recommended%2Cregion_id%2Ctime&organization=%22NOAA%20PMEL%22&time%3E=2001-01-01&time%3C=2001-07-01\"\n",
    "print (url)"
   ]
  },
  {
   "cell_type": "code",
   "execution_count": null,
   "metadata": {},
   "outputs": [],
   "source": []
  },
  {
   "cell_type": "code",
   "execution_count": 25,
   "metadata": {},
   "outputs": [
    {
     "data": {
      "text/html": [
       "<div>\n",
       "<style scoped>\n",
       "    .dataframe tbody tr th:only-of-type {\n",
       "        vertical-align: middle;\n",
       "    }\n",
       "\n",
       "    .dataframe tbody tr th {\n",
       "        vertical-align: top;\n",
       "    }\n",
       "\n",
       "    .dataframe thead th {\n",
       "        text-align: right;\n",
       "    }\n",
       "</style>\n",
       "<table border=\"1\" class=\"dataframe\">\n",
       "  <thead>\n",
       "    <tr style=\"text-align: right;\">\n",
       "      <th></th>\n",
       "      <th>fCO2_recommended</th>\n",
       "      <th>region_id</th>\n",
       "      <th>time</th>\n",
       "    </tr>\n",
       "  </thead>\n",
       "  <tbody>\n",
       "    <tr>\n",
       "      <th>0</th>\n",
       "      <td>351.952585</td>\n",
       "      <td>T</td>\n",
       "      <td>2001-01-18T20:35:00Z</td>\n",
       "    </tr>\n",
       "    <tr>\n",
       "      <th>1</th>\n",
       "      <td>351.855424</td>\n",
       "      <td>T</td>\n",
       "      <td>2001-01-18T20:40:00Z</td>\n",
       "    </tr>\n",
       "    <tr>\n",
       "      <th>2</th>\n",
       "      <td>351.474062</td>\n",
       "      <td>T</td>\n",
       "      <td>2001-01-18T20:45:00Z</td>\n",
       "    </tr>\n",
       "    <tr>\n",
       "      <th>3</th>\n",
       "      <td>349.682501</td>\n",
       "      <td>T</td>\n",
       "      <td>2001-01-18T21:05:00Z</td>\n",
       "    </tr>\n",
       "    <tr>\n",
       "      <th>4</th>\n",
       "      <td>350.128528</td>\n",
       "      <td>T</td>\n",
       "      <td>2001-01-18T21:10:00Z</td>\n",
       "    </tr>\n",
       "    <tr>\n",
       "      <th>...</th>\n",
       "      <td>...</td>\n",
       "      <td>...</td>\n",
       "      <td>...</td>\n",
       "    </tr>\n",
       "    <tr>\n",
       "      <th>5636</th>\n",
       "      <td>396.959954</td>\n",
       "      <td>T</td>\n",
       "      <td>2001-04-16T12:10:00Z</td>\n",
       "    </tr>\n",
       "    <tr>\n",
       "      <th>5637</th>\n",
       "      <td>397.571963</td>\n",
       "      <td>T</td>\n",
       "      <td>2001-04-16T12:15:00Z</td>\n",
       "    </tr>\n",
       "    <tr>\n",
       "      <th>5638</th>\n",
       "      <td>392.798857</td>\n",
       "      <td>T</td>\n",
       "      <td>2001-04-16T12:35:00Z</td>\n",
       "    </tr>\n",
       "    <tr>\n",
       "      <th>5639</th>\n",
       "      <td>392.797372</td>\n",
       "      <td>T</td>\n",
       "      <td>2001-04-16T12:40:00Z</td>\n",
       "    </tr>\n",
       "    <tr>\n",
       "      <th>5640</th>\n",
       "      <td>393.123937</td>\n",
       "      <td>T</td>\n",
       "      <td>2001-04-16T12:45:00Z</td>\n",
       "    </tr>\n",
       "  </tbody>\n",
       "</table>\n",
       "<p>5641 rows × 3 columns</p>\n",
       "</div>"
      ],
      "text/plain": [
       "      fCO2_recommended region_id                  time\n",
       "0           351.952585         T  2001-01-18T20:35:00Z\n",
       "1           351.855424         T  2001-01-18T20:40:00Z\n",
       "2           351.474062         T  2001-01-18T20:45:00Z\n",
       "3           349.682501         T  2001-01-18T21:05:00Z\n",
       "4           350.128528         T  2001-01-18T21:10:00Z\n",
       "...                ...       ...                   ...\n",
       "5636        396.959954         T  2001-04-16T12:10:00Z\n",
       "5637        397.571963         T  2001-04-16T12:15:00Z\n",
       "5638        392.798857         T  2001-04-16T12:35:00Z\n",
       "5639        392.797372         T  2001-04-16T12:40:00Z\n",
       "5640        393.123937         T  2001-04-16T12:45:00Z\n",
       "\n",
       "[5641 rows x 3 columns]"
      ]
     },
     "execution_count": 25,
     "metadata": {},
     "output_type": "execute_result"
    }
   ],
   "source": [
    "df = pd.read_csv(url, skiprows=[1], on_bad_lines='skip')\n",
    "df"
   ]
  },
  {
   "cell_type": "code",
   "execution_count": 8,
   "metadata": {},
   "outputs": [
    {
     "name": "stdout",
     "output_type": "stream",
     "text": [
      "https://data.pmel.noaa.gov/socat/erddap/search/advanced.html?page=1&itemsPerPage=1000&protocol=tabledap&cdm_data_type=(ANY)&institution=(ANY)&ioos_category=(ANY)&keywords=(ANY)&long_name=(ANY)&standard_name=(ANY)&variableName=(ANY)&minLon=(ANY)&maxLon=(ANY)&minLat=(ANY)&maxLat=(ANY)&minTime=&maxTime=\n"
     ]
    }
   ],
   "source": [
    "print (e_socat.get_search_url())"
   ]
  },
  {
   "cell_type": "code",
   "execution_count": null,
   "metadata": {},
   "outputs": [],
   "source": []
  },
  {
   "cell_type": "code",
   "execution_count": 78,
   "metadata": {},
   "outputs": [],
   "source": [
    "df = pd.read_csv('latest.csv', skiprows=[1])\n",
    "df.sort_values(['time','observation_depth'], ascending=False, inplace=True)\n",
    "https://data.pmel.noaa.gov/socat/erddap/tabledap/socat_v2024_fulldata.csv?fCO2_recommended%2Cregion_id&time%3E=2021-01-01&time%3C=2022-01-01"
   ]
  },
  {
   "cell_type": "code",
   "execution_count": 79,
   "metadata": {},
   "outputs": [],
   "source": [
    "# Remove any row that has no surface observation for the 7 surface variables we are plotting.\n",
    "surface_cols = ('latitude', \n",
    "                 'longitude', \n",
    "                 'time', \n",
    "                 'observation_depth', \n",
    "                 'platform_type', \n",
    "                 'platform_code', \n",
    "                 'sst', \n",
    "                 'slp',\n",
    "                 'atmp',\n",
    "                 'winddir',\n",
    "                 'windspd',\n",
    "                 'dewpoint',\n",
    "                 'clouds')\n",
    "\n",
    "# Some platforms report ztmp with observation_depth = 0.0 which is really sst.\n",
    "# So to get all surface obs you have to segment by platform type\n",
    "surface_platforms = ['TROPICAL MOORED BUOYS',\n",
    "                     'C-MAN WEATHER STATIONS',\n",
    "                     'DRIFTING BUOYS (GENERIC)',\n",
    "                     'ICE BUOYS',\n",
    "                     'MOORED BUOYS (GENERIC)',\n",
    "                     'RESEARCH',\n",
    "                     'SHIPS (GENERIC)',\n",
    "                     'SHORE AND BOTTOM STATIONS (GENERIC)',\n",
    "                     'TIDE GAUGE STATIONS (GENERIC)',\n",
    "                     'TSUNAMI WARNING STATIONS',\n",
    "                     'UNKNOWN',\n",
    "                     'UNMANNED SURFACE VEHICLE',\n",
    "                     'VOLUNTEER OBSERVING SHIPS',\n",
    "                     'VOLUNTEER OBSERVING SHIPS (GENERIC)',\n",
    "                     'VOSCLIM',\n",
    "                     'WEATHER AND OCEAN OBS',\n",
    "                     'WEATHER BUOYS',\n",
    "                     'WEATHER OBS']\n",
    "\n",
    "# Removes rows with other platform types\n",
    "surface = df[df.platform_type.isin(surface_platforms)]\n",
    "# Removes columns that are not metdadata or a desired surface variable\n",
    "surface = surface.loc[:, surface_cols]\n",
    "# Removes any row that does not have at least 1 surface observation that is not NaN\n",
    "surface.dropna(subset=['sst', 'slp', 'atmp', 'winddir', 'windspd', 'dewpoint', 'clouds'], how='all', inplace=True)"
   ]
  },
  {
   "cell_type": "code",
   "execution_count": 80,
   "metadata": {},
   "outputs": [],
   "source": [
    "depth_platforms = ['TROPICAL MOORED BUOYS',\n",
    "                   'AUTONOMOUS PINNIPEDS',\n",
    "                   'CLIMATE REFERENCE MOORED BUOYS',\n",
    "                   'GLIDERS',\n",
    "                   'ICE BUOYS',\n",
    "                   'OCEAN TRANSPORT STATIONS (GENERIC)',\n",
    "                   'PROFILING FLOATS AND GLIDERS (GENERIC)',\n",
    "                   'SHORE AND BOTTOM STATIONS (GENERIC)']\n",
    "\n",
    "# Keep only rows with platforms that report data at depth\n",
    "depth = df[df.platform_type.isin(depth_platforms)]\n",
    "# Keep only metadata and depth observation columns (zsal and ztmp)\n",
    "depth_cols = ('latitude', 'longitude', 'time', 'observation_depth', 'platform_type', 'platform_code', 'zsal', 'ztmp')\n",
    "depth = depth.loc[:, depth_cols]\n",
    "# Drop any row that has both ztmp and zsal set to NaN\n",
    "depth.dropna(subset=['ztmp', 'zsal'], how='all', inplace=True)\n",
    "# Convert time string to time value, keeping a copy\n",
    "depth.loc[:, 'time_val'] = depth['time']\n",
    "depth.loc[:, 'time'] = pd.to_datetime(depth['time'])"
   ]
  },
  {
   "cell_type": "code",
   "execution_count": 81,
   "metadata": {},
   "outputs": [],
   "source": [
    "surface_max = surface.drop_duplicates(['platform_code'])"
   ]
  },
  {
   "cell_type": "code",
   "execution_count": 82,
   "metadata": {},
   "outputs": [],
   "source": [
    "surface_locs = surface_max.loc[:,('latitude', 'longitude', 'platform_type', 'platform_code')]\n",
    "surface_locs.sort_values(['platform_type'], inplace=True)"
   ]
  },
  {
   "cell_type": "code",
   "execution_count": 83,
   "metadata": {},
   "outputs": [],
   "source": [
    "# Make time the index for the surface data since all plots are timeseries.\n",
    "surface['time_val'] = surface['time']\n",
    "surface.loc[:, 'time'] = pd.to_datetime(surface['time'])\n",
    "surface.set_index('time', inplace=True)"
   ]
  },
  {
   "cell_type": "code",
   "execution_count": 84,
   "metadata": {},
   "outputs": [],
   "source": [
    "sort_to_find_surface = depth.sort_values(['time','observation_depth'])\n",
    "depth_ob_locs = sort_to_find_surface.drop_duplicates(['time'])\n",
    "depth_max = depth_ob_locs.drop_duplicates(['platform_code'])\n",
    "depth_locs = depth_max.loc[:,('latitude', 'longitude', 'platform_type', 'platform_code')]\n",
    "depth_locs.sort_values(['platform_type'], inplace=True)"
   ]
  },
  {
   "cell_type": "code",
   "execution_count": 85,
   "metadata": {},
   "outputs": [],
   "source": [
    "depth_locs.to_pickle('depth_locations_latest.pkl')\n",
    "surface_locs.to_pickle('surface_locations_latest.pkl')\n",
    "surface.to_pickle('surface_data_latest.pkl')\n",
    "depth.to_pickle('depth_data_latest.pkl')"
   ]
  }
 ],
 "metadata": {
  "kernelspec": {
   "display_name": "Python 3",
   "language": "python",
   "name": "python3"
  },
  "language_info": {
   "codemirror_mode": {
    "name": "ipython",
    "version": 3
   },
   "file_extension": ".py",
   "mimetype": "text/x-python",
   "name": "python",
   "nbconvert_exporter": "python",
   "pygments_lexer": "ipython3",
   "version": "3.7.7"
  }
 },
 "nbformat": 4,
 "nbformat_minor": 4
}
