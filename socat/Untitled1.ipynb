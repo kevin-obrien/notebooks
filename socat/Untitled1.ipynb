{
 "cells": [
  {
   "cell_type": "code",
   "execution_count": 8,
   "id": "4022cd64",
   "metadata": {},
   "outputs": [
    {
     "name": "stdout",
     "output_type": "stream",
     "text": [
      "The target string 'Expocode' was found.\n",
      "Number of rows before the target: 4\n"
     ]
    }
   ],
   "source": [
    "import csv\n",
    "import os\n",
    "\n",
    "def count_rows_until_string(file_path, stop_string):\n",
    "    \"\"\"\n",
    "    Counts the number of rows in a TSV file until a specific string is found.\n",
    "\n",
    "    This function reads the file line by line, so it's efficient with memory,\n",
    "    even for very large files.\n",
    "\n",
    "    Args:\n",
    "        file_path (str): The path to the TSV file.\n",
    "        stop_string (str): The string to search for within any field of a row.\n",
    "\n",
    "    Returns:\n",
    "        int: The number of rows *before* the row containing the string. \n",
    "             For example, if the string is in the first row, it returns 0.\n",
    "             Returns -1 if the string is not found in the file.\n",
    "    \"\"\"\n",
    "    try:\n",
    "        # Open the file with 'newline=\"\"' which is recommended for the csv module\n",
    "        with open(file_path, 'r', newline='', encoding='utf-8') as tsvfile:\n",
    "            # Create a CSV reader object, specifying the tab as the delimiter\n",
    "            tsv_reader = csv.reader(tsvfile, delimiter='\\t')\n",
    "            \n",
    "            # Use enumerate to get both the index (row number) and the row content\n",
    "            for i, row in enumerate(tsv_reader):\n",
    "                # The 'row' is a list of strings (the columns)\n",
    "                # We check if our stop_string is present in any of the fields in the row\n",
    "                if any(stop_string in field for field in row):\n",
    "                    # Return the index 'i', which is the count of preceding rows\n",
    "                    return i\n",
    "                    \n",
    "    except FileNotFoundError:\n",
    "        print(f\"Error: The file at '{file_path}' was not found.\")\n",
    "        return -1\n",
    "        \n",
    "    except Exception as e:\n",
    "        print(f\"An unexpected error occurred: {e}\")\n",
    "        return -1\n",
    "    \n",
    "    # If the loop completes without finding the string, return -1\n",
    "    return -1\n",
    "\n",
    "# --- Example of How to Use the Function ---\n",
    "\n",
    "# 1. For demonstration, let's create a sample TSV file.\n",
    "file_name = \"/home/kobrien/socat/GCB-test/SOCATv2025.tsv\"\n",
    "\n",
    "\n",
    "# 2. Define the file path and the string we want to find.\n",
    "target_string = \"Expocode\"\n",
    "\n",
    "# 3. Call the function and get the result.\n",
    "row_count = count_rows_until_string(file_name, target_string)\n",
    "\n",
    "# 4. Print a user-friendly result.\n",
    "if row_count != -1:\n",
    "    print(f\"The target string '{target_string}' was found.\")\n",
    "    print(f\"Number of rows before the target: {row_count}\")\n",
    "    # The string is on line index 4, which is the 5th row.\n",
    "    # So, there are 4 rows before it (including the header).\n",
    "else:\n",
    "    print(f\"The target string '{target_string}' was not found in the file '{file_name}'.\")\n",
    "\n"
   ]
  },
  {
   "cell_type": "code",
   "execution_count": null,
   "id": "7ac61025",
   "metadata": {},
   "outputs": [],
   "source": []
  }
 ],
 "metadata": {
  "kernelspec": {
   "display_name": "Python 3 (ipykernel)",
   "language": "python",
   "name": "python3"
  },
  "language_info": {
   "codemirror_mode": {
    "name": "ipython",
    "version": 3
   },
   "file_extension": ".py",
   "mimetype": "text/x-python",
   "name": "python",
   "nbconvert_exporter": "python",
   "pygments_lexer": "ipython3",
   "version": "3.8.18"
  }
 },
 "nbformat": 4,
 "nbformat_minor": 5
}
