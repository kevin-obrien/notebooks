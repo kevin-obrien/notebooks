{
 "cells": [
  {
   "cell_type": "code",
   "execution_count": 73,
   "id": "8ca586e2",
   "metadata": {},
   "outputs": [],
   "source": [
    "import erddapy\n",
    "import pandas as pd\n",
    "from datetime import datetime\n",
    "\n",
    "# Define the ERDDAP server URL and dataset\n",
    "server_url = 'https://data.pmel.noaa.gov/socat/erddap/'\n",
    "\n",
    "e = erddapy.ERDDAP(server=server_url)\n",
    "e.protocol = \"tabledap\"\n",
    "e.repsonse=\"csv\"\n",
    "e.dataset_id = \"socat_v2025_fulldata\""
   ]
  },
  {
   "cell_type": "code",
   "execution_count": 74,
   "id": "a8dcd07c",
   "metadata": {},
   "outputs": [],
   "source": [
    "e.variables = [\n",
    "    \"expocode\",\n",
    "    \"time\",\n",
    "    \"Temperature_equi\",\n",
    "    \"temp\"\n",
    "]"
   ]
  },
  {
   "cell_type": "code",
   "execution_count": 75,
   "id": "062ec3ce",
   "metadata": {},
   "outputs": [],
   "source": [
    "e.constraints = {\n",
    "    \"Temperature_equi>=\" : -10000,\n",
    "    \"temp>=\" : -10000,\n",
    "#    \"expocode=\" : \"58SC19990213\"\n",
    "#    \"time>=\":\"2022-01-01T00:00:00Z\"\n",
    "    \"socat_version=~\":\"(2025.0N|2025.0U)\"\n",
    "}"
   ]
  },
  {
   "cell_type": "code",
   "execution_count": 76,
   "id": "cf6abc42",
   "metadata": {},
   "outputs": [
    {
     "data": {
      "text/html": [
       "<div>\n",
       "<style scoped>\n",
       "    .dataframe tbody tr th:only-of-type {\n",
       "        vertical-align: middle;\n",
       "    }\n",
       "\n",
       "    .dataframe tbody tr th {\n",
       "        vertical-align: top;\n",
       "    }\n",
       "\n",
       "    .dataframe thead th {\n",
       "        text-align: right;\n",
       "    }\n",
       "</style>\n",
       "<table border=\"1\" class=\"dataframe\">\n",
       "  <thead>\n",
       "    <tr style=\"text-align: right;\">\n",
       "      <th></th>\n",
       "      <th>expocode</th>\n",
       "      <th>time (UTC)</th>\n",
       "      <th>Temperature_equi (degrees C)</th>\n",
       "      <th>temp (degrees C)</th>\n",
       "    </tr>\n",
       "  </thead>\n",
       "  <tbody>\n",
       "    <tr>\n",
       "      <th>0</th>\n",
       "      <td>06AQ20200101</td>\n",
       "      <td>2020-01-20T06:50:45Z</td>\n",
       "      <td>-0.66</td>\n",
       "      <td>-1.67700</td>\n",
       "    </tr>\n",
       "    <tr>\n",
       "      <th>1</th>\n",
       "      <td>06AQ20200101</td>\n",
       "      <td>2020-01-20T06:51:48Z</td>\n",
       "      <td>-0.66</td>\n",
       "      <td>-1.67300</td>\n",
       "    </tr>\n",
       "    <tr>\n",
       "      <th>2</th>\n",
       "      <td>06AQ20200101</td>\n",
       "      <td>2020-01-20T06:52:51Z</td>\n",
       "      <td>-0.66</td>\n",
       "      <td>-1.67500</td>\n",
       "    </tr>\n",
       "    <tr>\n",
       "      <th>3</th>\n",
       "      <td>06AQ20200101</td>\n",
       "      <td>2020-01-20T06:53:54Z</td>\n",
       "      <td>-0.66</td>\n",
       "      <td>-1.68000</td>\n",
       "    </tr>\n",
       "    <tr>\n",
       "      <th>4</th>\n",
       "      <td>06AQ20200101</td>\n",
       "      <td>2020-01-20T06:54:57Z</td>\n",
       "      <td>-0.66</td>\n",
       "      <td>-1.68100</td>\n",
       "    </tr>\n",
       "    <tr>\n",
       "      <th>...</th>\n",
       "      <td>...</td>\n",
       "      <td>...</td>\n",
       "      <td>...</td>\n",
       "      <td>...</td>\n",
       "    </tr>\n",
       "    <tr>\n",
       "      <th>3297287</th>\n",
       "      <td>WFCH20240528</td>\n",
       "      <td>2024-06-10T18:17:20Z</td>\n",
       "      <td>9.78</td>\n",
       "      <td>9.25915</td>\n",
       "    </tr>\n",
       "    <tr>\n",
       "      <th>3297288</th>\n",
       "      <td>WFCH20240528</td>\n",
       "      <td>2024-06-10T18:19:53Z</td>\n",
       "      <td>9.63</td>\n",
       "      <td>9.08510</td>\n",
       "    </tr>\n",
       "    <tr>\n",
       "      <th>3297289</th>\n",
       "      <td>WFCH20240528</td>\n",
       "      <td>2024-06-10T18:22:25Z</td>\n",
       "      <td>9.58</td>\n",
       "      <td>9.06138</td>\n",
       "    </tr>\n",
       "    <tr>\n",
       "      <th>3297290</th>\n",
       "      <td>WFCH20240528</td>\n",
       "      <td>2024-06-10T18:24:57Z</td>\n",
       "      <td>9.72</td>\n",
       "      <td>9.14284</td>\n",
       "    </tr>\n",
       "    <tr>\n",
       "      <th>3297291</th>\n",
       "      <td>WFCH20240528</td>\n",
       "      <td>2024-06-10T18:27:50Z</td>\n",
       "      <td>9.68</td>\n",
       "      <td>9.14584</td>\n",
       "    </tr>\n",
       "  </tbody>\n",
       "</table>\n",
       "<p>3297292 rows × 4 columns</p>\n",
       "</div>"
      ],
      "text/plain": [
       "             expocode            time (UTC)  Temperature_equi (degrees C)  \\\n",
       "0        06AQ20200101  2020-01-20T06:50:45Z                         -0.66   \n",
       "1        06AQ20200101  2020-01-20T06:51:48Z                         -0.66   \n",
       "2        06AQ20200101  2020-01-20T06:52:51Z                         -0.66   \n",
       "3        06AQ20200101  2020-01-20T06:53:54Z                         -0.66   \n",
       "4        06AQ20200101  2020-01-20T06:54:57Z                         -0.66   \n",
       "...               ...                   ...                           ...   \n",
       "3297287  WFCH20240528  2024-06-10T18:17:20Z                          9.78   \n",
       "3297288  WFCH20240528  2024-06-10T18:19:53Z                          9.63   \n",
       "3297289  WFCH20240528  2024-06-10T18:22:25Z                          9.58   \n",
       "3297290  WFCH20240528  2024-06-10T18:24:57Z                          9.72   \n",
       "3297291  WFCH20240528  2024-06-10T18:27:50Z                          9.68   \n",
       "\n",
       "         temp (degrees C)  \n",
       "0                -1.67700  \n",
       "1                -1.67300  \n",
       "2                -1.67500  \n",
       "3                -1.68000  \n",
       "4                -1.68100  \n",
       "...                   ...  \n",
       "3297287           9.25915  \n",
       "3297288           9.08510  \n",
       "3297289           9.06138  \n",
       "3297290           9.14284  \n",
       "3297291           9.14584  \n",
       "\n",
       "[3297292 rows x 4 columns]"
      ]
     },
     "execution_count": 76,
     "metadata": {},
     "output_type": "execute_result"
    }
   ],
   "source": [
    "df=e.to_pandas()"
   ]
  },
  {
   "cell_type": "code",
   "execution_count": 77,
   "id": "1bc8a80d",
   "metadata": {},
   "outputs": [
    {
     "name": "stdout",
     "output_type": "stream",
     "text": [
      "3297292\n"
     ]
    }
   ],
   "source": [
    "df[(df[\"Temperature_equi (degrees C)\"] - df[\"temp (degrees C)\"]) > 5].to_csv('dt_plus_5.csv', index=False)\n",
    "print(len(df))"
   ]
  },
  {
   "cell_type": "code",
   "execution_count": null,
   "id": "3b9e919b",
   "metadata": {},
   "outputs": [],
   "source": []
  },
  {
   "cell_type": "code",
   "execution_count": null,
   "id": "816e6e9c",
   "metadata": {},
   "outputs": [],
   "source": []
  },
  {
   "cell_type": "code",
   "execution_count": null,
   "id": "209014ef",
   "metadata": {},
   "outputs": [],
   "source": []
  },
  {
   "cell_type": "code",
   "execution_count": 66,
   "id": "8dd2d2a3",
   "metadata": {},
   "outputs": [],
   "source": [
    "##comparison_results = df[\"Temperature_equi (degrees C)\"] - df[\"temp (degrees C)\"]"
   ]
  },
  {
   "cell_type": "code",
   "execution_count": 67,
   "id": "3b91556f",
   "metadata": {},
   "outputs": [],
   "source": [
    "#df['dt_check_5'] = (df[\"Temperature_equi (degrees C)\"] - df[\"temp (degrees C)\"]) > 5\n",
    "#df_check_5_count = df['dt_check_5'].sum()\n"
   ]
  },
  {
   "cell_type": "code",
   "execution_count": 68,
   "id": "0fed4898",
   "metadata": {},
   "outputs": [
    {
     "name": "stdout",
     "output_type": "stream",
     "text": [
      "             expocode            time (UTC)  Temperature_equi (degrees C)  \\\n",
      "2471129  33HH20240425  2024-04-25T23:00:39Z                         12.41   \n",
      "2789481  33RR20221202  2023-01-04T01:38:16Z                          4.46   \n",
      "2789497  33RR20221202  2023-01-04T02:16:33Z                          4.45   \n",
      "2789503  33RR20221202  2023-01-04T02:30:47Z                          4.45   \n",
      "2789511  33RR20221202  2023-01-04T02:50:06Z                          4.38   \n",
      "...               ...                   ...                           ...   \n",
      "7945728  WFCH20240108  2024-01-27T13:21:30Z                          7.62   \n",
      "7945730  WFCH20240108  2024-01-27T13:26:37Z                          8.96   \n",
      "7945731  WFCH20240108  2024-01-27T13:29:10Z                         12.23   \n",
      "7945732  WFCH20240108  2024-01-27T13:31:43Z                         14.74   \n",
      "7945733  WFCH20240108  2024-01-27T13:34:36Z                         11.05   \n",
      "\n",
      "         temp (degrees C)  \n",
      "2471129          7.251300  \n",
      "2789481         -0.623000  \n",
      "2789497         -0.562000  \n",
      "2789503         -0.594000  \n",
      "2789511         -0.636000  \n",
      "...                   ...  \n",
      "7945728          2.518600  \n",
      "7945730          2.867690  \n",
      "7945731          1.220590  \n",
      "7945732          0.763963  \n",
      "7945733          0.019161  \n",
      "\n",
      "[455 rows x 4 columns]\n"
     ]
    }
   ],
   "source": [
    "#is_over_5 = (df[\"Temperature_equi (degrees C)\"] - df[\"temp (degrees C)\"]) > 5\n",
    "#true_rows = df[is_over_5]\n",
    "#print(true_rows)"
   ]
  },
  {
   "cell_type": "code",
   "execution_count": 69,
   "id": "46ab6e6a",
   "metadata": {},
   "outputs": [
    {
     "name": "stdout",
     "output_type": "stream",
     "text": [
      "             expocode            time (UTC)  Temperature_equi (degrees C)  \\\n",
      "2471129  33HH20240425  2024-04-25T23:00:39Z                         12.41   \n",
      "2789481  33RR20221202  2023-01-04T01:38:16Z                          4.46   \n",
      "2789497  33RR20221202  2023-01-04T02:16:33Z                          4.45   \n",
      "2789503  33RR20221202  2023-01-04T02:30:47Z                          4.45   \n",
      "2789511  33RR20221202  2023-01-04T02:50:06Z                          4.38   \n",
      "...               ...                   ...                           ...   \n",
      "7945728  WFCH20240108  2024-01-27T13:21:30Z                          7.62   \n",
      "7945730  WFCH20240108  2024-01-27T13:26:37Z                          8.96   \n",
      "7945731  WFCH20240108  2024-01-27T13:29:10Z                         12.23   \n",
      "7945732  WFCH20240108  2024-01-27T13:31:43Z                         14.74   \n",
      "7945733  WFCH20240108  2024-01-27T13:34:36Z                         11.05   \n",
      "\n",
      "         temp (degrees C)  \n",
      "2471129          7.251300  \n",
      "2789481         -0.623000  \n",
      "2789497         -0.562000  \n",
      "2789503         -0.594000  \n",
      "2789511         -0.636000  \n",
      "...                   ...  \n",
      "7945728          2.518600  \n",
      "7945730          2.867690  \n",
      "7945731          1.220590  \n",
      "7945732          0.763963  \n",
      "7945733          0.019161  \n",
      "\n",
      "[455 rows x 4 columns]\n"
     ]
    }
   ],
   "source": []
  },
  {
   "cell_type": "code",
   "execution_count": 70,
   "id": "4c37658b",
   "metadata": {},
   "outputs": [],
   "source": [
    "df[(df[\"Temperature_equi (degrees C)\"] - df[\"temp (degrees C)\"]) > 5].to_csv('dt_plus_5.csv', index=False)"
   ]
  },
  {
   "cell_type": "code",
   "execution_count": null,
   "id": "f9b1f83c",
   "metadata": {},
   "outputs": [],
   "source": [
    "for expocode in (expocodes):\n",
    "    for datasetID in (socat_dataset_ids):\n",
    "        e.constraints = { \"expocode=\": expocode}\n",
    "        e.dataset_id = datasetID\n",
    "        url = e.get_download_url(response=\"csv\")\n",
    "\n",
    "        try:\n",
    "            df = pd.read_csv(url)\n",
    "            print (\"Expocode \", expocode, \" exists in \", datasetID)\n",
    "        except:\n",
    "            pass\n",
    "            #print (\"Expocode \", expocode, \" NOT in \", datasetID)\n",
    "\n",
    "            \n",
    "            "
   ]
  },
  {
   "cell_type": "code",
   "execution_count": null,
   "id": "6428c2d6",
   "metadata": {},
   "outputs": [],
   "source": [
    "#for datasetID in (socat_dataset_ids):\n",
    "#    e.dataset_id = datasetID\n",
    "#    for expocode in (expocodes):\n",
    "#        e.constraints = { \"expocode=\": expocode}\n",
    "#        url = e.get_download_url(response=\"csv\")\n",
    "#        try:\n",
    "#            df = pd.read_csv(url)\n",
    "#            print (\"Expocode \", expocode, \" exists in \", datasetID)\n",
    "#        except:\n",
    "#            print (\"Expocode \", expocode, \" not in \", datasetID)\n",
    "            "
   ]
  }
 ],
 "metadata": {
  "kernelspec": {
   "display_name": "Python 3 (ipykernel)",
   "language": "python",
   "name": "python3"
  },
  "language_info": {
   "codemirror_mode": {
    "name": "ipython",
    "version": 3
   },
   "file_extension": ".py",
   "mimetype": "text/x-python",
   "name": "python",
   "nbconvert_exporter": "python",
   "pygments_lexer": "ipython3",
   "version": "3.8.18"
  }
 },
 "nbformat": 4,
 "nbformat_minor": 5
}
