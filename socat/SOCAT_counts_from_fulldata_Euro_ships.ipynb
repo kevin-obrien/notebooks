{
 "cells": [
  {
   "cell_type": "code",
   "execution_count": 1,
   "id": "2d3b12cc",
   "metadata": {},
   "outputs": [],
   "source": [
    "import pandas as pd\n",
    "import numpy as np\n",
    "import datetime\n",
    "from erddapy import ERDDAP"
   ]
  },
  {
   "cell_type": "code",
   "execution_count": 2,
   "id": "de13dce5",
   "metadata": {},
   "outputs": [],
   "source": [
    "e = ERDDAP(server=\"https://data.pmel.noaa.gov/socat/erddap\")"
   ]
  },
  {
   "cell_type": "code",
   "execution_count": 3,
   "id": "b93b3c94",
   "metadata": {},
   "outputs": [],
   "source": [
    "e.protocol=\"tabledap\""
   ]
  },
  {
   "cell_type": "code",
   "execution_count": 4,
   "id": "60c1d9b4",
   "metadata": {},
   "outputs": [],
   "source": [
    "e.dataset_id=\"socat_v2024_fulldata\""
   ]
  },
  {
   "cell_type": "code",
   "execution_count": 46,
   "id": "a4a45791",
   "metadata": {},
   "outputs": [],
   "source": [
    "e.constraints = {\n",
    "\n",
    "    \"organization=~\":\"(Flanders Marine Inst|\\\n",
    "OMEX|\\\n",
    "Univ Liege|\\\n",
    "Bio Sta Roscoff|\\\n",
    "CNRS|\\\n",
    "IUEM|\\\n",
    "LOCEAN|\\\n",
    "OOV France|\\\n",
    "Univ Pierre Marie Curie|\\\n",
    "Fabrice AMEDEO|\\\n",
    "Alfred Wegener Inst|\\\n",
    "GEOMAR|\\\n",
    "GEOMAR : Univ Bergen|\\\n",
    "GEOMAR : Univ Bergen : Dalhousie Univ|\\\n",
    "Hamburg Univ|\\\n",
    "Leibniz Institute for Baltic Sea Research Warnemuende (IOW)|\\\n",
    "Leibniz IOW|\\\n",
    "Leibniz-Institute for Baltic Sea research Warnemuende|\\\n",
    "Max Planck Inst|\\\n",
    "Univ Kiel|\\\n",
    "Hellenic Centre Marine Res|\\\n",
    "MFRI Iceland|\\\n",
    "Irish Marine Inst.|\\\n",
    "Univ Ireland|\\\n",
    "NIOZ|\\\n",
    "NIOZ : Alfred Wegener Inst|\\\n",
    "NIOZ : Univ Liege|\\\n",
    "Bjerknes Centre Clim Res|\\\n",
    "Bjerknes Centre Clim Res : Alfred Wegener Inst|\\\n",
    "NORCE|\\\n",
    "NORCE, GEOMAR, UiB|\\\n",
    "Norwegian Polar Inst|\\\n",
    "NPI, IMR, NPI|\\\n",
    "Univ Bergen|\\\n",
    "University of Bergen|\\\n",
    "Bjerknes Centre Clim Res : NIOZ|\\\n",
    "CCMAR|\\\n",
    "CSIC Spain|\\\n",
    "IIM-CSIC|\\\n",
    "Univ Las Palmas|\\\n",
    "Uppsala Univ|\\\n",
    "NOC UK|\\\n",
    "CEFAS UK|\\\n",
    "Plymouth Marine Lab|\\\n",
    "Plymouth Marine Lab : Univ Exeter|\\\n",
    "Univ East Anglia|\\\n",
    "Univ East Anglia : Alfred Wegener Inst|\\\n",
    "Univ Exeter|\\\n",
    "Bermuda Inst Ocean Sci|\\\n",
    "Bermuda Institute of Ocean Sciences|\\\n",
    "BIOS)\", \n",
    "\n",
    "}"
   ]
  },
  {
   "cell_type": "code",
   "execution_count": 47,
   "id": "347ae0f1",
   "metadata": {},
   "outputs": [],
   "source": [
    "e.variables = [\n",
    "    \"fCO2_recommended\",\n",
    "    \"region_id\",\n",
    "]\n",
    "\n"
   ]
  },
  {
   "cell_type": "code",
   "execution_count": 48,
   "id": "d211b556",
   "metadata": {},
   "outputs": [],
   "source": [
    "url=e.get_download_url(response=\"csv\")"
   ]
  },
  {
   "cell_type": "code",
   "execution_count": 49,
   "id": "dec21327",
   "metadata": {},
   "outputs": [
    {
     "name": "stdout",
     "output_type": "stream",
     "text": [
      "https://data.pmel.noaa.gov/socat/erddap/tabledap/socat_v2024_fulldata.csv?fCO2_recommended,region_id&organization=~\"(Flanders Marine Inst|OMEX|Univ Liege|Bio Sta Roscoff|CNRS|IUEM|LOCEAN|OOV France|Univ Pierre Marie Curie|Fabrice AMEDEO|Alfred Wegener Inst|GEOMAR|GEOMAR : Univ Bergen|GEOMAR : Univ Bergen : Dalhousie Univ|Hamburg Univ|Leibniz Institute for Baltic Sea Research Warnemuende (IOW)|Leibniz IOW|Leibniz-Institute for Baltic Sea research Warnemuende|Max Planck Inst|Univ Kiel|Hellenic Centre Marine Res|MFRI Iceland|Irish Marine Inst.|Univ Ireland|NIOZ|NIOZ : Alfred Wegener Inst|NIOZ : Univ Liege|Bjerknes Centre Clim Res|Bjerknes Centre Clim Res : Alfred Wegener Inst|NORCE|NORCE, GEOMAR, UiB|Norwegian Polar Inst|NPI, IMR, NPI|Univ Bergen|University of Bergen|Bjerknes Centre Clim Res : NIOZ|CCMAR|CSIC Spain|IIM-CSIC|Univ Las Palmas|Uppsala Univ|NOC UK|CEFAS UK|Plymouth Marine Lab|Plymouth Marine Lab : Univ Exeter|Univ East Anglia|Univ East Anglia : Alfred Wegener Inst|Univ Exeter|Bermuda Inst Ocean Sci|Bermuda Institute of Ocean Sciences|BIOS)\"\n"
     ]
    }
   ],
   "source": [
    "print (url)"
   ]
  },
  {
   "cell_type": "code",
   "execution_count": 50,
   "id": "0c65c709",
   "metadata": {},
   "outputs": [],
   "source": [
    "df = e.to_pandas()"
   ]
  },
  {
   "cell_type": "code",
   "execution_count": 51,
   "id": "466ba120",
   "metadata": {},
   "outputs": [
    {
     "data": {
      "text/plain": [
       "fCO2_recommended (uatm)    14613683\n",
       "region_id                  18817664\n",
       "dtype: int64"
      ]
     },
     "execution_count": 51,
     "metadata": {},
     "output_type": "execute_result"
    }
   ],
   "source": [
    "df.count()"
   ]
  },
  {
   "cell_type": "code",
   "execution_count": 52,
   "id": "e31d02b4",
   "metadata": {},
   "outputs": [],
   "source": [
    "fco2 = df.dropna(subset=['fCO2_recommended (uatm)'])"
   ]
  },
  {
   "cell_type": "code",
   "execution_count": 53,
   "id": "58256a42",
   "metadata": {},
   "outputs": [
    {
     "data": {
      "text/plain": [
       "fCO2_recommended (uatm)    14613683\n",
       "region_id                  14613683\n",
       "dtype: int64"
      ]
     },
     "execution_count": 53,
     "metadata": {},
     "output_type": "execute_result"
    }
   ],
   "source": [
    "fco2.count()"
   ]
  },
  {
   "cell_type": "code",
   "execution_count": 54,
   "id": "73b34948",
   "metadata": {},
   "outputs": [
    {
     "data": {
      "text/html": [
       "<div>\n",
       "<style scoped>\n",
       "    .dataframe tbody tr th:only-of-type {\n",
       "        vertical-align: middle;\n",
       "    }\n",
       "\n",
       "    .dataframe tbody tr th {\n",
       "        vertical-align: top;\n",
       "    }\n",
       "\n",
       "    .dataframe thead th {\n",
       "        text-align: right;\n",
       "    }\n",
       "</style>\n",
       "<table border=\"1\" class=\"dataframe\">\n",
       "  <thead>\n",
       "    <tr style=\"text-align: right;\">\n",
       "      <th></th>\n",
       "      <th>fCO2_recommended (uatm)</th>\n",
       "      <th>region_id</th>\n",
       "    </tr>\n",
       "  </thead>\n",
       "  <tbody>\n",
       "    <tr>\n",
       "      <th>0</th>\n",
       "      <td>477.196384</td>\n",
       "      <td>C</td>\n",
       "    </tr>\n",
       "    <tr>\n",
       "      <th>1</th>\n",
       "      <td>476.790538</td>\n",
       "      <td>C</td>\n",
       "    </tr>\n",
       "    <tr>\n",
       "      <th>2</th>\n",
       "      <td>476.381725</td>\n",
       "      <td>C</td>\n",
       "    </tr>\n",
       "    <tr>\n",
       "      <th>3</th>\n",
       "      <td>475.718646</td>\n",
       "      <td>C</td>\n",
       "    </tr>\n",
       "    <tr>\n",
       "      <th>4</th>\n",
       "      <td>475.464066</td>\n",
       "      <td>C</td>\n",
       "    </tr>\n",
       "    <tr>\n",
       "      <th>...</th>\n",
       "      <td>...</td>\n",
       "      <td>...</td>\n",
       "    </tr>\n",
       "    <tr>\n",
       "      <th>95</th>\n",
       "      <td>450.473734</td>\n",
       "      <td>C</td>\n",
       "    </tr>\n",
       "    <tr>\n",
       "      <th>96</th>\n",
       "      <td>450.259789</td>\n",
       "      <td>C</td>\n",
       "    </tr>\n",
       "    <tr>\n",
       "      <th>97</th>\n",
       "      <td>450.149876</td>\n",
       "      <td>C</td>\n",
       "    </tr>\n",
       "    <tr>\n",
       "      <th>98</th>\n",
       "      <td>449.851783</td>\n",
       "      <td>C</td>\n",
       "    </tr>\n",
       "    <tr>\n",
       "      <th>99</th>\n",
       "      <td>449.440016</td>\n",
       "      <td>C</td>\n",
       "    </tr>\n",
       "  </tbody>\n",
       "</table>\n",
       "<p>100 rows × 2 columns</p>\n",
       "</div>"
      ],
      "text/plain": [
       "    fCO2_recommended (uatm) region_id\n",
       "0                477.196384         C\n",
       "1                476.790538         C\n",
       "2                476.381725         C\n",
       "3                475.718646         C\n",
       "4                475.464066         C\n",
       "..                      ...       ...\n",
       "95               450.473734         C\n",
       "96               450.259789         C\n",
       "97               450.149876         C\n",
       "98               449.851783         C\n",
       "99               449.440016         C\n",
       "\n",
       "[100 rows x 2 columns]"
      ]
     },
     "execution_count": 54,
     "metadata": {},
     "output_type": "execute_result"
    }
   ],
   "source": [
    "fco2.head(100)"
   ]
  },
  {
   "cell_type": "code",
   "execution_count": 55,
   "id": "02429338",
   "metadata": {},
   "outputs": [
    {
     "data": {
      "text/html": [
       "<div>\n",
       "<style scoped>\n",
       "    .dataframe tbody tr th:only-of-type {\n",
       "        vertical-align: middle;\n",
       "    }\n",
       "\n",
       "    .dataframe tbody tr th {\n",
       "        vertical-align: top;\n",
       "    }\n",
       "\n",
       "    .dataframe thead th {\n",
       "        text-align: right;\n",
       "    }\n",
       "</style>\n",
       "<table border=\"1\" class=\"dataframe\">\n",
       "  <thead>\n",
       "    <tr style=\"text-align: right;\">\n",
       "      <th></th>\n",
       "      <th>fCO2_recommended (uatm)</th>\n",
       "      <th>region_id</th>\n",
       "    </tr>\n",
       "  </thead>\n",
       "  <tbody>\n",
       "    <tr>\n",
       "      <th>18817566</th>\n",
       "      <td>301.894152</td>\n",
       "      <td>C</td>\n",
       "    </tr>\n",
       "    <tr>\n",
       "      <th>18817567</th>\n",
       "      <td>300.111372</td>\n",
       "      <td>C</td>\n",
       "    </tr>\n",
       "    <tr>\n",
       "      <th>18817568</th>\n",
       "      <td>302.163561</td>\n",
       "      <td>C</td>\n",
       "    </tr>\n",
       "    <tr>\n",
       "      <th>18817569</th>\n",
       "      <td>242.642996</td>\n",
       "      <td>C</td>\n",
       "    </tr>\n",
       "    <tr>\n",
       "      <th>18817570</th>\n",
       "      <td>284.407413</td>\n",
       "      <td>C</td>\n",
       "    </tr>\n",
       "    <tr>\n",
       "      <th>...</th>\n",
       "      <td>...</td>\n",
       "      <td>...</td>\n",
       "    </tr>\n",
       "    <tr>\n",
       "      <th>18817661</th>\n",
       "      <td>359.948361</td>\n",
       "      <td>C</td>\n",
       "    </tr>\n",
       "    <tr>\n",
       "      <th>18817662</th>\n",
       "      <td>352.654761</td>\n",
       "      <td>C</td>\n",
       "    </tr>\n",
       "    <tr>\n",
       "      <th>18817663</th>\n",
       "      <td>360.206347</td>\n",
       "      <td>C</td>\n",
       "    </tr>\n",
       "    <tr>\n",
       "      <th>18817664</th>\n",
       "      <td>358.455262</td>\n",
       "      <td>C</td>\n",
       "    </tr>\n",
       "    <tr>\n",
       "      <th>18817665</th>\n",
       "      <td>381.207315</td>\n",
       "      <td>C</td>\n",
       "    </tr>\n",
       "  </tbody>\n",
       "</table>\n",
       "<p>100 rows × 2 columns</p>\n",
       "</div>"
      ],
      "text/plain": [
       "          fCO2_recommended (uatm) region_id\n",
       "18817566               301.894152         C\n",
       "18817567               300.111372         C\n",
       "18817568               302.163561         C\n",
       "18817569               242.642996         C\n",
       "18817570               284.407413         C\n",
       "...                           ...       ...\n",
       "18817661               359.948361         C\n",
       "18817662               352.654761         C\n",
       "18817663               360.206347         C\n",
       "18817664               358.455262         C\n",
       "18817665               381.207315         C\n",
       "\n",
       "[100 rows x 2 columns]"
      ]
     },
     "execution_count": 55,
     "metadata": {},
     "output_type": "execute_result"
    }
   ],
   "source": [
    "fco2.tail(100)"
   ]
  },
  {
   "cell_type": "code",
   "execution_count": 56,
   "id": "535482e9",
   "metadata": {},
   "outputs": [
    {
     "name": "stdout",
     "output_type": "stream",
     "text": [
      "region_id\n",
      "A    3908980\n",
      "C    9862200\n",
      "I      99395\n",
      "N       1692\n",
      "O    1464372\n",
      "R    1284176\n",
      "T     117579\n",
      "Z    2079270\n",
      "dtype: int64\n"
     ]
    }
   ],
   "source": [
    "print(df.groupby('region_id').size())"
   ]
  },
  {
   "cell_type": "code",
   "execution_count": null,
   "id": "67e5ba82",
   "metadata": {},
   "outputs": [],
   "source": []
  },
  {
   "cell_type": "code",
   "execution_count": null,
   "id": "c717661f",
   "metadata": {},
   "outputs": [],
   "source": []
  }
 ],
 "metadata": {
  "kernelspec": {
   "display_name": "Python 3 (ipykernel)",
   "language": "python",
   "name": "python3"
  },
  "language_info": {
   "codemirror_mode": {
    "name": "ipython",
    "version": 3
   },
   "file_extension": ".py",
   "mimetype": "text/x-python",
   "name": "python",
   "nbconvert_exporter": "python",
   "pygments_lexer": "ipython3",
   "version": "3.8.18"
  }
 },
 "nbformat": 4,
 "nbformat_minor": 5
}
