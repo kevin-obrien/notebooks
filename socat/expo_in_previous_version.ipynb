{
 "cells": [
  {
   "cell_type": "code",
   "execution_count": 1,
   "id": "8ca586e2",
   "metadata": {},
   "outputs": [],
   "source": [
    "import erddapy\n",
    "import pandas as pd\n",
    "from datetime import datetime\n",
    "\n",
    "# Define the ERDDAP server URL and dataset\n",
    "server_url = 'https://data.pmel.noaa.gov/socat/erddap/'\n",
    "\n",
    "e = erddapy.ERDDAP(server=server_url)\n",
    "e.protocol = \"tabledap\"\n",
    "e.repsonse=\"csv\""
   ]
  },
  {
   "cell_type": "code",
   "execution_count": 2,
   "id": "73d0007c",
   "metadata": {},
   "outputs": [],
   "source": [
    "socat_dataset_ids = list ((\"socat_v3_decimated\",\n",
    "                           \"socat_v4_decimated\",\n",
    "                           \"socat_v5_decimated\",\n",
    "                           \"socat_v6_decimated\",\n",
    "                            \"socat_v2019_decimated\",\n",
    "                            \"socat_v2020_decimated\",\n",
    "                            \"socat_v2021_decimated\",\n",
    "                            \"socat_v2022_decimated\",\n",
    "                            \"socat_v2023_decimated\",\n",
    "                            \"socat_v2024_decimated\",\n",
    "                            \"socat_v2025_decimated\"))\n",
    "\n"
   ]
  },
  {
   "cell_type": "code",
   "execution_count": 3,
   "id": "cf6abc42",
   "metadata": {},
   "outputs": [],
   "source": [
    "df = pd.read_csv(\"./expocodes\")\n",
    "expocodes = df['expocode'].tolist()"
   ]
  },
  {
   "cell_type": "code",
   "execution_count": 4,
   "id": "f9b1f83c",
   "metadata": {},
   "outputs": [
    {
     "name": "stdout",
     "output_type": "stream",
     "text": [
      "Expocode  29SG20210528  exists in  socat_v2023_decimated\n",
      "Expocode  29SG20210528  exists in  socat_v2024_decimated\n",
      "Expocode  29SG20210630  exists in  socat_v2023_decimated\n",
      "Expocode  29SG20210630  exists in  socat_v2024_decimated\n",
      "Expocode  29SG20211115  exists in  socat_v2023_decimated\n",
      "Expocode  29SG20211115  exists in  socat_v2024_decimated\n",
      "Expocode  29SG20220911  exists in  socat_v2023_decimated\n",
      "Expocode  29SG20220911  exists in  socat_v2024_decimated\n",
      "Expocode  91AA20190718  exists in  socat_v2024_decimated\n",
      "Expocode  91AA20191013  exists in  socat_v2024_decimated\n",
      "Expocode  91AA20191217  exists in  socat_v2024_decimated\n",
      "Expocode  91AA20220711  exists in  socat_v2024_decimated\n",
      "Expocode  91AA20221219  exists in  socat_v2024_decimated\n",
      "Expocode  18DL20100701  exists in  socat_v2019_decimated\n",
      "Expocode  18DL20100701  exists in  socat_v2020_decimated\n",
      "Expocode  18DL20100701  exists in  socat_v2021_decimated\n",
      "Expocode  18DL20100701  exists in  socat_v2022_decimated\n",
      "Expocode  18DL20100701  exists in  socat_v2023_decimated\n",
      "Expocode  18DL20100701  exists in  socat_v2024_decimated\n",
      "Expocode  18DL20110718  exists in  socat_v2019_decimated\n",
      "Expocode  18DL20110718  exists in  socat_v2020_decimated\n",
      "Expocode  18DL20110718  exists in  socat_v2021_decimated\n",
      "Expocode  18DL20110718  exists in  socat_v2022_decimated\n",
      "Expocode  18DL20110718  exists in  socat_v2023_decimated\n",
      "Expocode  18DL20110718  exists in  socat_v2024_decimated\n",
      "Expocode  18DL20130725  exists in  socat_v6_decimated\n",
      "Expocode  18DL20130725  exists in  socat_v2019_decimated\n",
      "Expocode  18DL20130725  exists in  socat_v2020_decimated\n",
      "Expocode  18DL20130725  exists in  socat_v2021_decimated\n",
      "Expocode  18DL20130725  exists in  socat_v2022_decimated\n",
      "Expocode  18DL20130725  exists in  socat_v2023_decimated\n",
      "Expocode  18DL20130725  exists in  socat_v2024_decimated\n",
      "Expocode  18DL20130726  exists in  socat_v2019_decimated\n",
      "Expocode  18DL20130726  exists in  socat_v2020_decimated\n",
      "Expocode  18DL20130726  exists in  socat_v2021_decimated\n",
      "Expocode  18DL20130726  exists in  socat_v2022_decimated\n",
      "Expocode  18DL20130726  exists in  socat_v2023_decimated\n",
      "Expocode  18DL20130726  exists in  socat_v2024_decimated\n",
      "Expocode  18DL20140707  exists in  socat_v2019_decimated\n",
      "Expocode  18DL20140707  exists in  socat_v2020_decimated\n",
      "Expocode  18DL20140707  exists in  socat_v2021_decimated\n",
      "Expocode  18DL20140707  exists in  socat_v2022_decimated\n",
      "Expocode  18DL20140707  exists in  socat_v2023_decimated\n",
      "Expocode  18DL20140707  exists in  socat_v2024_decimated\n",
      "Expocode  18DL20140708  exists in  socat_v6_decimated\n",
      "Expocode  18DL20140708  exists in  socat_v2019_decimated\n",
      "Expocode  18DL20140708  exists in  socat_v2020_decimated\n",
      "Expocode  18DL20140708  exists in  socat_v2021_decimated\n",
      "Expocode  18DL20140708  exists in  socat_v2022_decimated\n",
      "Expocode  18DL20140708  exists in  socat_v2023_decimated\n",
      "Expocode  18DL20140708  exists in  socat_v2024_decimated\n",
      "Expocode  18DL20150417  exists in  socat_v2019_decimated\n",
      "Expocode  18DL20150417  exists in  socat_v2020_decimated\n",
      "Expocode  18DL20150417  exists in  socat_v2021_decimated\n",
      "Expocode  18DL20150417  exists in  socat_v2022_decimated\n",
      "Expocode  18DL20150417  exists in  socat_v2023_decimated\n",
      "Expocode  18DL20150417  exists in  socat_v2024_decimated\n",
      "Expocode  18DL20160802  exists in  socat_v2021_decimated\n",
      "Expocode  18DL20160802  exists in  socat_v2022_decimated\n",
      "Expocode  18DL20160802  exists in  socat_v2023_decimated\n",
      "Expocode  18DL20160802  exists in  socat_v2024_decimated\n",
      "Expocode  18DL20160603  exists in  socat_v2019_decimated\n",
      "Expocode  18DL20160603  exists in  socat_v2020_decimated\n",
      "Expocode  18DL20160603  exists in  socat_v2021_decimated\n",
      "Expocode  18DL20160603  exists in  socat_v2022_decimated\n",
      "Expocode  18DL20160603  exists in  socat_v2023_decimated\n",
      "Expocode  18DL20160603  exists in  socat_v2024_decimated\n",
      "Expocode  18DL20180525  exists in  socat_v2021_decimated\n",
      "Expocode  18DL20180525  exists in  socat_v2022_decimated\n",
      "Expocode  18DL20180525  exists in  socat_v2023_decimated\n",
      "Expocode  18DL20180525  exists in  socat_v2024_decimated\n"
     ]
    }
   ],
   "source": [
    "for expocode in (expocodes):\n",
    "    for datasetID in (socat_dataset_ids):\n",
    "        e.constraints = { \"expocode=\": expocode}\n",
    "        e.dataset_id = datasetID\n",
    "        url = e.get_download_url(response=\"csv\")\n",
    "\n",
    "        try:\n",
    "            df = pd.read_csv(url)\n",
    "            print (\"Expocode \", expocode, \" exists in \", datasetID)\n",
    "        except:\n",
    "            pass\n",
    "            #print (\"Expocode \", expocode, \" NOT in \", datasetID)\n",
    "\n",
    "            \n",
    "            "
   ]
  },
  {
   "cell_type": "code",
   "execution_count": null,
   "id": "6428c2d6",
   "metadata": {},
   "outputs": [],
   "source": [
    "#for datasetID in (socat_dataset_ids):\n",
    "#    e.dataset_id = datasetID\n",
    "#    for expocode in (expocodes):\n",
    "#        e.constraints = { \"expocode=\": expocode}\n",
    "#        url = e.get_download_url(response=\"csv\")\n",
    "#        try:\n",
    "#            df = pd.read_csv(url)\n",
    "#            print (\"Expocode \", expocode, \" exists in \", datasetID)\n",
    "#        except:\n",
    "#            print (\"Expocode \", expocode, \" not in \", datasetID)\n",
    "            "
   ]
  }
 ],
 "metadata": {
  "kernelspec": {
   "display_name": "Python 3 (ipykernel)",
   "language": "python",
   "name": "python3"
  },
  "language_info": {
   "codemirror_mode": {
    "name": "ipython",
    "version": 3
   },
   "file_extension": ".py",
   "mimetype": "text/x-python",
   "name": "python",
   "nbconvert_exporter": "python",
   "pygments_lexer": "ipython3",
   "version": "3.8.18"
  }
 },
 "nbformat": 4,
 "nbformat_minor": 5
}
