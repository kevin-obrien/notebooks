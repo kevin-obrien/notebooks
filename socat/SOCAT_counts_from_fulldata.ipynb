{
 "cells": [
  {
   "cell_type": "code",
   "execution_count": 30,
   "id": "930b3891",
   "metadata": {},
   "outputs": [],
   "source": [
    "import pandas as pd\n",
    "import numpy as np\n",
    "import datetime\n",
    "from erddapy import ERDDAP"
   ]
  },
  {
   "cell_type": "code",
   "execution_count": 31,
   "id": "3320c562",
   "metadata": {},
   "outputs": [],
   "source": [
    "e = ERDDAP(server=\"https://data.pmel.noaa.gov/socat/erddap\")"
   ]
  },
  {
   "cell_type": "code",
   "execution_count": 32,
   "id": "7f4a81f3",
   "metadata": {},
   "outputs": [],
   "source": [
    "e.protocol=\"tabledap\""
   ]
  },
  {
   "cell_type": "code",
   "execution_count": 33,
   "id": "00b9936e",
   "metadata": {},
   "outputs": [],
   "source": [
    "e.dataset_id=\"socat_v2024_fulldata\""
   ]
  },
  {
   "cell_type": "code",
   "execution_count": 34,
   "id": "64a37d08",
   "metadata": {},
   "outputs": [],
   "source": [
    "e.constraints = {\n",
    "\n",
    "    \"organization=~\":\"(NOAA PMEL : Univ Southern Mississippi|PMEL| \\\n",
    "CSIRO : NOAA PMEL|\\\n",
    "LDEO Columbia Univ : NOAA ESRL CIRES|\\\n",
    "LDEO Columbia Univ : NOAA ESRL CIRES : IAAR Univ Colorado|\\\n",
    "NOAA AOML|\\\n",
    "NOAA ESRL CIRES : LDEO Columbia Univ : IAAR Univ Colorado|\\\n",
    "NOAA PMEL|\\\n",
    "NOAA PMEL : Bermuda Inst Ocean Sci|\\\n",
    "NOAA PMEL : Irish Marine Inst.|\\\n",
    "NOAA PMEL : KIOST|\\\n",
    "NOAA PMEL : MFRI Iceland|\\\n",
    "NOAA PMEL : NOAA AONL : NOAA AOML|\\\n",
    "NOAA PMEL : Scripps Inst Ocean|\\\n",
    "NOAA PMEL : Univ Alaska|\\\n",
    "NOAA PMEL : Univ Delaware|\\\n",
    "NOAA PMEL : Univ Hawaii|\\\n",
    "NOAA PMEL : Univ New Hampshire|\\\n",
    "NOAA PMEL : Univ Puerto Rico|\\\n",
    "NOAA PMEL : Univ Southern Mississippi|\\\n",
    "NOAA PMEL : Univ Wash|\\\n",
    "NOAA PMEL : University of Georgia : University of Delaware|\\\n",
    "PMEL|\\\n",
    "RSMAS Univ Miami|\\\n",
    "RSMAS Univ Miami : NOAA AOML|\\\n",
    "Scripps Inst Ocean|\\\n",
    "LDEO Columbia Univ|\\\n",
    "Princeton Univ|\\\n",
    "Univ Alaska : NOAA PMEL|\\\n",
    "Univ Hawaii|\\\n",
    "Woods Hole Ocean Inst)\", \n",
    "\n",
    "}"
   ]
  },
  {
   "cell_type": "code",
   "execution_count": 35,
   "id": "50a657e4",
   "metadata": {},
   "outputs": [],
   "source": [
    "e.variables = [\n",
    "    \"fCO2_recommended\",\n",
    "    \"region_id\",\n",
    "]\n",
    "\n"
   ]
  },
  {
   "cell_type": "code",
   "execution_count": 36,
   "id": "1d5c77c7",
   "metadata": {},
   "outputs": [],
   "source": [
    "url=e.get_download_url(response=\"csv\")"
   ]
  },
  {
   "cell_type": "code",
   "execution_count": 37,
   "id": "9cfd0ef1",
   "metadata": {},
   "outputs": [
    {
     "name": "stdout",
     "output_type": "stream",
     "text": [
      "https://data.pmel.noaa.gov/socat/erddap/tabledap/socat_v2024_fulldata.csv?fCO2_recommended,region_id&organization=~\"(NOAA PMEL : Univ Southern Mississippi|PMEL| CSIRO : NOAA PMEL|LDEO Columbia Univ : NOAA ESRL CIRES|LDEO Columbia Univ : NOAA ESRL CIRES : IAAR Univ Colorado|NOAA AOML|NOAA ESRL CIRES : LDEO Columbia Univ : IAAR Univ Colorado|NOAA PMEL|NOAA PMEL : Bermuda Inst Ocean Sci|NOAA PMEL : Irish Marine Inst.|NOAA PMEL : KIOST|NOAA PMEL : MFRI Iceland|NOAA PMEL : NOAA AONL : NOAA AOML|NOAA PMEL : Scripps Inst Ocean|NOAA PMEL : Univ Alaska|NOAA PMEL : Univ Delaware|NOAA PMEL : Univ Hawaii|NOAA PMEL : Univ New Hampshire|NOAA PMEL : Univ Puerto Rico|NOAA PMEL : Univ Southern Mississippi|NOAA PMEL : Univ Wash|NOAA PMEL : University of Georgia : University of Delaware|PMEL|RSMAS Univ Miami|RSMAS Univ Miami : NOAA AOML|Scripps Inst Ocean|LDEO Columbia Univ|Princeton Univ|Univ Alaska : NOAA PMEL|Univ Hawaii|Woods Hole Ocean Inst)\"\n"
     ]
    }
   ],
   "source": [
    "print (url)"
   ]
  },
  {
   "cell_type": "code",
   "execution_count": 38,
   "id": "46816387",
   "metadata": {},
   "outputs": [],
   "source": [
    "df = e.to_pandas()"
   ]
  },
  {
   "cell_type": "code",
   "execution_count": 39,
   "id": "d5e18d3b",
   "metadata": {},
   "outputs": [
    {
     "data": {
      "text/plain": [
       "fCO2_recommended (uatm)    12586684\n",
       "region_id                  13378770\n",
       "dtype: int64"
      ]
     },
     "execution_count": 39,
     "metadata": {},
     "output_type": "execute_result"
    }
   ],
   "source": [
    "df.count()"
   ]
  },
  {
   "cell_type": "code",
   "execution_count": 11,
   "id": "31c71207",
   "metadata": {},
   "outputs": [],
   "source": [
    "fco2 = df.dropna(subset=['fCO2_recommended (uatm)'])"
   ]
  },
  {
   "cell_type": "code",
   "execution_count": 12,
   "id": "a2d59a0f",
   "metadata": {},
   "outputs": [
    {
     "data": {
      "text/plain": [
       "fCO2_recommended (uatm)    47755546\n",
       "region_id                  47755546\n",
       "dtype: int64"
      ]
     },
     "execution_count": 12,
     "metadata": {},
     "output_type": "execute_result"
    }
   ],
   "source": [
    "fco2.count()"
   ]
  },
  {
   "cell_type": "code",
   "execution_count": 13,
   "id": "196d480f",
   "metadata": {},
   "outputs": [
    {
     "data": {
      "text/html": [
       "<div>\n",
       "<style scoped>\n",
       "    .dataframe tbody tr th:only-of-type {\n",
       "        vertical-align: middle;\n",
       "    }\n",
       "\n",
       "    .dataframe tbody tr th {\n",
       "        vertical-align: top;\n",
       "    }\n",
       "\n",
       "    .dataframe thead th {\n",
       "        text-align: right;\n",
       "    }\n",
       "</style>\n",
       "<table border=\"1\" class=\"dataframe\">\n",
       "  <thead>\n",
       "    <tr style=\"text-align: right;\">\n",
       "      <th></th>\n",
       "      <th>fCO2_recommended (uatm)</th>\n",
       "      <th>region_id</th>\n",
       "    </tr>\n",
       "  </thead>\n",
       "  <tbody>\n",
       "    <tr>\n",
       "      <th>0</th>\n",
       "      <td>477.196384</td>\n",
       "      <td>C</td>\n",
       "    </tr>\n",
       "    <tr>\n",
       "      <th>1</th>\n",
       "      <td>476.790538</td>\n",
       "      <td>C</td>\n",
       "    </tr>\n",
       "    <tr>\n",
       "      <th>2</th>\n",
       "      <td>476.381725</td>\n",
       "      <td>C</td>\n",
       "    </tr>\n",
       "    <tr>\n",
       "      <th>3</th>\n",
       "      <td>475.718646</td>\n",
       "      <td>C</td>\n",
       "    </tr>\n",
       "    <tr>\n",
       "      <th>4</th>\n",
       "      <td>475.464066</td>\n",
       "      <td>C</td>\n",
       "    </tr>\n",
       "    <tr>\n",
       "      <th>...</th>\n",
       "      <td>...</td>\n",
       "      <td>...</td>\n",
       "    </tr>\n",
       "    <tr>\n",
       "      <th>95</th>\n",
       "      <td>450.473734</td>\n",
       "      <td>C</td>\n",
       "    </tr>\n",
       "    <tr>\n",
       "      <th>96</th>\n",
       "      <td>450.259789</td>\n",
       "      <td>C</td>\n",
       "    </tr>\n",
       "    <tr>\n",
       "      <th>97</th>\n",
       "      <td>450.149876</td>\n",
       "      <td>C</td>\n",
       "    </tr>\n",
       "    <tr>\n",
       "      <th>98</th>\n",
       "      <td>449.851783</td>\n",
       "      <td>C</td>\n",
       "    </tr>\n",
       "    <tr>\n",
       "      <th>99</th>\n",
       "      <td>449.440016</td>\n",
       "      <td>C</td>\n",
       "    </tr>\n",
       "  </tbody>\n",
       "</table>\n",
       "<p>100 rows × 2 columns</p>\n",
       "</div>"
      ],
      "text/plain": [
       "    fCO2_recommended (uatm) region_id\n",
       "0                477.196384         C\n",
       "1                476.790538         C\n",
       "2                476.381725         C\n",
       "3                475.718646         C\n",
       "4                475.464066         C\n",
       "..                      ...       ...\n",
       "95               450.473734         C\n",
       "96               450.259789         C\n",
       "97               450.149876         C\n",
       "98               449.851783         C\n",
       "99               449.440016         C\n",
       "\n",
       "[100 rows x 2 columns]"
      ]
     },
     "execution_count": 13,
     "metadata": {},
     "output_type": "execute_result"
    }
   ],
   "source": [
    "fco2.head(100)"
   ]
  },
  {
   "cell_type": "code",
   "execution_count": 14,
   "id": "9c511da4",
   "metadata": {},
   "outputs": [
    {
     "data": {
      "text/html": [
       "<div>\n",
       "<style scoped>\n",
       "    .dataframe tbody tr th:only-of-type {\n",
       "        vertical-align: middle;\n",
       "    }\n",
       "\n",
       "    .dataframe tbody tr th {\n",
       "        vertical-align: top;\n",
       "    }\n",
       "\n",
       "    .dataframe thead th {\n",
       "        text-align: right;\n",
       "    }\n",
       "</style>\n",
       "<table border=\"1\" class=\"dataframe\">\n",
       "  <thead>\n",
       "    <tr style=\"text-align: right;\">\n",
       "      <th></th>\n",
       "      <th>fCO2_recommended (uatm)</th>\n",
       "      <th>region_id</th>\n",
       "    </tr>\n",
       "  </thead>\n",
       "  <tbody>\n",
       "    <tr>\n",
       "      <th>55477733</th>\n",
       "      <td>301.894152</td>\n",
       "      <td>C</td>\n",
       "    </tr>\n",
       "    <tr>\n",
       "      <th>55477734</th>\n",
       "      <td>300.111372</td>\n",
       "      <td>C</td>\n",
       "    </tr>\n",
       "    <tr>\n",
       "      <th>55477735</th>\n",
       "      <td>302.163561</td>\n",
       "      <td>C</td>\n",
       "    </tr>\n",
       "    <tr>\n",
       "      <th>55477736</th>\n",
       "      <td>242.642996</td>\n",
       "      <td>C</td>\n",
       "    </tr>\n",
       "    <tr>\n",
       "      <th>55477737</th>\n",
       "      <td>284.407413</td>\n",
       "      <td>C</td>\n",
       "    </tr>\n",
       "    <tr>\n",
       "      <th>...</th>\n",
       "      <td>...</td>\n",
       "      <td>...</td>\n",
       "    </tr>\n",
       "    <tr>\n",
       "      <th>55477828</th>\n",
       "      <td>359.948361</td>\n",
       "      <td>C</td>\n",
       "    </tr>\n",
       "    <tr>\n",
       "      <th>55477829</th>\n",
       "      <td>352.654761</td>\n",
       "      <td>C</td>\n",
       "    </tr>\n",
       "    <tr>\n",
       "      <th>55477830</th>\n",
       "      <td>360.206347</td>\n",
       "      <td>C</td>\n",
       "    </tr>\n",
       "    <tr>\n",
       "      <th>55477831</th>\n",
       "      <td>358.455262</td>\n",
       "      <td>C</td>\n",
       "    </tr>\n",
       "    <tr>\n",
       "      <th>55477832</th>\n",
       "      <td>381.207315</td>\n",
       "      <td>C</td>\n",
       "    </tr>\n",
       "  </tbody>\n",
       "</table>\n",
       "<p>100 rows × 2 columns</p>\n",
       "</div>"
      ],
      "text/plain": [
       "          fCO2_recommended (uatm) region_id\n",
       "55477733               301.894152         C\n",
       "55477734               300.111372         C\n",
       "55477735               302.163561         C\n",
       "55477736               242.642996         C\n",
       "55477737               284.407413         C\n",
       "...                           ...       ...\n",
       "55477828               359.948361         C\n",
       "55477829               352.654761         C\n",
       "55477830               360.206347         C\n",
       "55477831               358.455262         C\n",
       "55477832               381.207315         C\n",
       "\n",
       "[100 rows x 2 columns]"
      ]
     },
     "execution_count": 14,
     "metadata": {},
     "output_type": "execute_result"
    }
   ],
   "source": [
    "fco2.tail(100)"
   ]
  },
  {
   "cell_type": "code",
   "execution_count": 15,
   "id": "130aefa3",
   "metadata": {},
   "outputs": [
    {
     "name": "stdout",
     "output_type": "stream",
     "text": [
      "region_id\n",
      "A     4903691\n",
      "C    28909653\n",
      "I      416963\n",
      "N     1511114\n",
      "O     9970037\n",
      "R     2706107\n",
      "T     4436769\n",
      "Z     2623497\n",
      "dtype: int64\n"
     ]
    }
   ],
   "source": [
    "print(df.groupby('region_id').size())"
   ]
  },
  {
   "cell_type": "code",
   "execution_count": null,
   "id": "a675f023",
   "metadata": {},
   "outputs": [],
   "source": []
  }
 ],
 "metadata": {
  "kernelspec": {
   "display_name": "Python 3 (ipykernel)",
   "language": "python",
   "name": "python3"
  },
  "language_info": {
   "codemirror_mode": {
    "name": "ipython",
    "version": 3
   },
   "file_extension": ".py",
   "mimetype": "text/x-python",
   "name": "python",
   "nbconvert_exporter": "python",
   "pygments_lexer": "ipython3",
   "version": "3.8.18"
  }
 },
 "nbformat": 4,
 "nbformat_minor": 5
}
