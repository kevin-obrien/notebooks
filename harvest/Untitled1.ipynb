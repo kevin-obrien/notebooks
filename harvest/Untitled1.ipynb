{
 "cells": [
  {
   "cell_type": "code",
   "execution_count": 6,
   "id": "5da3d5ee",
   "metadata": {},
   "outputs": [
    {
     "name": "stdout",
     "output_type": "stream",
     "text": [
      "Error parsing metadata XML: mismatched tag: line 13, column 2\n"
     ]
    }
   ],
   "source": [
    "import requests\n",
    "import xml.etree.ElementTree as ET\n",
    "\n",
    "# Replace this URL with the ERDDAP tabledap dataset URL\n",
    "erddap_url = 'https://data.pmel.noaa.gov/generic/erddap/tabledap/cchdo_bottle'\n",
    "\n",
    "def get_metadata(url):\n",
    "    try:\n",
    "        # Send request to the ERDDAP server for the metadata (XML format)\n",
    "        response = requests.get(url)\n",
    "        response.raise_for_status()  # Raise an error for bad status codes\n",
    "        return response.text\n",
    "    except requests.exceptions.RequestException as e:\n",
    "        print(f\"Error fetching metadata: {e}\")\n",
    "        return None\n",
    "\n",
    "def parse_metadata(xml_data):\n",
    "    try:\n",
    "        # Parse the XML response using ElementTree\n",
    "        tree = ET.ElementTree(ET.fromstring(xml_data))\n",
    "        root = tree.getroot()\n",
    "\n",
    "        # Print basic metadata information\n",
    "        print(\"Dataset Metadata:\")\n",
    "        \n",
    "        # Example: extract and print the title of the dataset\n",
    "        title = root.find('.//datasetTitle')\n",
    "        if title is not None:\n",
    "            print(f\"Title: {title.text}\")\n",
    "\n",
    "        # Example: extract and print the variables in the dataset\n",
    "        variables = root.findall('.//variable')\n",
    "        print(\"\\nVariables:\")\n",
    "        for variable in variables:\n",
    "            var_name = variable.get('name')\n",
    "            var_long_name = variable.get('long_name')\n",
    "            print(f\"- {var_name} ({var_long_name})\")\n",
    "\n",
    "        # Example: print other metadata like the time variable, etc.\n",
    "        time_variable = root.find('.//variable[@name=\"time\"]')\n",
    "        if time_variable is not None:\n",
    "            print(f\"\\nTime variable: {time_variable.get('name')}\")\n",
    "\n",
    "    except ET.ParseError as e:\n",
    "        print(f\"Error parsing metadata XML: {e}\")\n",
    "    except Exception as e:\n",
    "        print(f\"Error parsing metadata: {e}\")\n",
    "\n",
    "def main():\n",
    "    metadata = get_metadata(erddap_url)\n",
    "    if metadata:\n",
    "        parse_metadata(metadata)\n",
    "\n",
    "if __name__ == '__main__':\n",
    "    main()"
   ]
  },
  {
   "cell_type": "code",
   "execution_count": null,
   "id": "f1ab993e",
   "metadata": {},
   "outputs": [],
   "source": []
  }
 ],
 "metadata": {
  "kernelspec": {
   "display_name": "Python 3 (ipykernel)",
   "language": "python",
   "name": "python3"
  },
  "language_info": {
   "codemirror_mode": {
    "name": "ipython",
    "version": 3
   },
   "file_extension": ".py",
   "mimetype": "text/x-python",
   "name": "python",
   "nbconvert_exporter": "python",
   "pygments_lexer": "ipython3",
   "version": "3.8.18"
  }
 },
 "nbformat": 4,
 "nbformat_minor": 5
}
