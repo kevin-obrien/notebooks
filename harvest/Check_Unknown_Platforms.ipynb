{
 "cells": [
  {
   "cell_type": "code",
   "execution_count": 25,
   "id": "7b359537",
   "metadata": {},
   "outputs": [],
   "source": [
    "import erddapy\n",
    "import pandas as pd\n",
    "from datetime import datetime\n",
    "import requests\n",
    "import json\n",
    "\n",
    "\n",
    "# Define the ERDDAP server URL and dataset\n",
    "server_url = 'https://osmc.noaa.gov/erddap/'\n",
    "dataset_id = 'OSMC_30day'\n",
    "\n",
    "# Create a connection to the ERDDAP server\n",
    "e = erddapy.ERDDAP(server=server_url)\n",
    "\n",
    "#Set the dataset ID for the query\n",
    "e.dataset_id = dataset_id\n",
    "\n",
    "unknownButDefinedAtOceanOPS = []\n",
    "unknownAtOceanOPS = []"
   ]
  },
  {
   "cell_type": "code",
   "execution_count": 26,
   "id": "f97f7739",
   "metadata": {},
   "outputs": [],
   "source": [
    "#grab reporting as UNKNOWN platforms\n",
    "minTime=\"2025-07-19T00:00:00\"\n",
    "idURL1 = server_url + \"tabledap/OSMC_flattened.csv?platform_code%2Cplatform_type&\\\n",
    "platform_type=%22UNKNOWN%22&time%3E=\" + minTime + \"&distinct()\"\n",
    "df = pd.read_csv(idURL1)\n"
   ]
  },
  {
   "cell_type": "code",
   "execution_count": 27,
   "id": "8bb2dc8d",
   "metadata": {},
   "outputs": [],
   "source": [
    "#for row in df.itertuples():\n",
    "    #print(row.platform_code)\n",
    "#    url = \"https://www.ocean-ops.org/api/1/data/platform?exp=[%22wmos.wmo%20=%20%27\" + str(row.platform_code) + \"%27%22]\"\n",
    "#    response = requests.get(url)\n",
    "#    data = response.json()\n",
    "#    if (data['total'] == 0):\n",
    "#        unknownAtOceanOPS.append(row.platform_code)\n",
    "#    else:\n",
    "#        unknownButDefinedAtOceanOPS.append(row.platform_code)\n",
    "#        url = \"https://osmc.noaa.gov/erddap/tabledap/oceanops_passport.csv?DB_ID&WMO=%22\" \\\n",
    "#        + str(row.platform_code) + \"%22\"\n",
    "#        print (url)\n",
    "#        try:\n",
    "#            df2 = pd.read_csv(url)\n",
    "#            print (df2)\n",
    "#            if response.status_code == 404:\n",
    "#                print (str(row.platform_code) + \" is not in the OSMC passport metadata dataset\")\n",
    "#            else:\n",
    "#                print (response.status_code)\n",
    "#        except requests.exceptions.ConnectionError as e:\n",
    "#            print(f\"A connection error occurred: {e}\")\n",
    "        "
   ]
  },
  {
   "cell_type": "code",
   "execution_count": 28,
   "id": "3bbd80d0",
   "metadata": {},
   "outputs": [
    {
     "name": "stdout",
     "output_type": "stream",
     "text": [
      "1801926\n",
      "1902799\n",
      "2501555\n",
      "2802172\n",
      "3801824\n",
      "3902687\n",
      "4903913\n",
      "5802225\n",
      "5906949\n",
      "5906950\n",
      "5907150\n",
      "5907202\n",
      "5907203\n",
      "6990555\n",
      "6990556\n",
      "6990557\n",
      "6990558\n",
      "6990559\n",
      "6990560\n",
      "6990561\n",
      "6990564\n",
      "6990565\n",
      "6990689\n",
      "7811071\n",
      "7901120\n",
      "7902313\n",
      "7902325\n",
      "8901006\n",
      "8901009\n",
      "8901025\n",
      "8901088\n",
      "8901103\n",
      "8901120\n",
      "GHWJKFV\n",
      "ZDJM2RR\n"
     ]
    }
   ],
   "source": [
    "for row in df.itertuples():\n",
    "    #print(row.platform_code)\n",
    "    url = \"https://www.ocean-ops.org/api/1/data/platform?exp=[%22wmos.wmo%20=%20%27\" + str(row.platform_code) + \"%27%22]\"\n",
    "    response = requests.get(url)\n",
    "    data = response.json()\n",
    "    if (data['total'] == 0):\n",
    "        unknownAtOceanOPS.append(row.platform_code)\n",
    "    else:\n",
    "        unknownButDefinedAtOceanOPS.append(row.platform_code)\n",
    "        url = \"https://osmc.noaa.gov/erddap/tabledap/oceanops_passport.csv?DB_ID&WMO=%22\" \\\n",
    "        + str(row.platform_code) + \"%22\"\n",
    "        try:\n",
    "            response_osmc = requests.get(url)            \n",
    "            if response_osmc.status_code == 200:\n",
    "                print (str(row.platform_code))\n",
    "        except requests.exceptions.RequestException as e:\n",
    "                # Catch any network-related errors for the OSMC call\n",
    "                print(f\"A request error occurred for {row.platform_code}: {e}\")\n"
   ]
  },
  {
   "cell_type": "code",
   "execution_count": null,
   "id": "85e8f208",
   "metadata": {},
   "outputs": [],
   "source": []
  }
 ],
 "metadata": {
  "kernelspec": {
   "display_name": "Python 3 (ipykernel)",
   "language": "python",
   "name": "python3"
  },
  "language_info": {
   "codemirror_mode": {
    "name": "ipython",
    "version": 3
   },
   "file_extension": ".py",
   "mimetype": "text/x-python",
   "name": "python",
   "nbconvert_exporter": "python",
   "pygments_lexer": "ipython3",
   "version": "3.8.18"
  }
 },
 "nbformat": 4,
 "nbformat_minor": 5
}
