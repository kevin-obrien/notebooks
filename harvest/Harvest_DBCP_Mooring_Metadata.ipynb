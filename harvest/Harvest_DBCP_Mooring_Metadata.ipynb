{
 "cells": [
  {
   "cell_type": "code",
   "execution_count": 24,
   "id": "7b359537",
   "metadata": {},
   "outputs": [],
   "source": [
    "import erddapy\n",
    "import pandas as pd\n",
    "from datetime import datetime\n",
    "import requests\n",
    "import json\n",
    "\n",
    "\n",
    "# Define the ERDDAP server URL and dataset\n",
    "server_url = 'http://localhost:8080/erddap/'\n",
    "#server_url ='https://sour.pmel.noaa.gov:8776/erddap/'\n",
    "dataset_id = 'DBCP_moored_meta_edited'\n",
    "\n",
    "# Create a connection to the ERDDAP server\n",
    "e = erddapy.ERDDAP(server=server_url)\n",
    "\n",
    "#Set the dataset ID for the query\n",
    "e.dataset_id = dataset_id\n"
   ]
  },
  {
   "cell_type": "code",
   "execution_count": 25,
   "id": "f97f7739",
   "metadata": {},
   "outputs": [
    {
     "name": "stdout",
     "output_type": "stream",
     "text": [
      "http://localhost:8080/erddap/tabledap/DBCP_moored_meta_edited.csv?WMOn\n"
     ]
    }
   ],
   "source": [
    "#grab reporting as UNKNOWN platforms\n",
    "\n",
    "idURL1 = server_url + \"tabledap/DBCP_moored_meta_edited.csv?WMOn\"\n",
    "print (idURL1)\n",
    "df = pd.read_csv(idURL1)\n"
   ]
  },
  {
   "cell_type": "code",
   "execution_count": 26,
   "id": "8bb2dc8d",
   "metadata": {},
   "outputs": [
    {
     "data": {
      "text/html": [
       "<div>\n",
       "<style scoped>\n",
       "    .dataframe tbody tr th:only-of-type {\n",
       "        vertical-align: middle;\n",
       "    }\n",
       "\n",
       "    .dataframe tbody tr th {\n",
       "        vertical-align: top;\n",
       "    }\n",
       "\n",
       "    .dataframe thead th {\n",
       "        text-align: right;\n",
       "    }\n",
       "</style>\n",
       "<table border=\"1\" class=\"dataframe\">\n",
       "  <thead>\n",
       "    <tr style=\"text-align: right;\">\n",
       "      <th></th>\n",
       "      <th>WMOn</th>\n",
       "    </tr>\n",
       "  </thead>\n",
       "  <tbody>\n",
       "    <tr>\n",
       "      <th>0</th>\n",
       "      <td>3100004</td>\n",
       "    </tr>\n",
       "    <tr>\n",
       "      <th>1</th>\n",
       "      <td>3100005</td>\n",
       "    </tr>\n",
       "  </tbody>\n",
       "</table>\n",
       "</div>"
      ],
      "text/plain": [
       "      WMOn\n",
       "0  3100004\n",
       "1  3100005"
      ]
     },
     "execution_count": 26,
     "metadata": {},
     "output_type": "execute_result"
    }
   ],
   "source": [
    "df"
   ]
  },
  {
   "cell_type": "code",
   "execution_count": 28,
   "id": "faf685b0",
   "metadata": {},
   "outputs": [
    {
     "name": "stdout",
     "output_type": "stream",
     "text": [
      "3100004\n",
      "3100005\n"
     ]
    }
   ],
   "source": [
    "for mooring in df['WMOn']:\n",
    "    print (mooring)"
   ]
  },
  {
   "cell_type": "code",
   "execution_count": null,
   "id": "41fe089f",
   "metadata": {},
   "outputs": [],
   "source": []
  }
 ],
 "metadata": {
  "kernelspec": {
   "display_name": "Python 3 (ipykernel)",
   "language": "python",
   "name": "python3"
  },
  "language_info": {
   "codemirror_mode": {
    "name": "ipython",
    "version": 3
   },
   "file_extension": ".py",
   "mimetype": "text/x-python",
   "name": "python",
   "nbconvert_exporter": "python",
   "pygments_lexer": "ipython3",
   "version": "3.8.18"
  }
 },
 "nbformat": 4,
 "nbformat_minor": 5
}
