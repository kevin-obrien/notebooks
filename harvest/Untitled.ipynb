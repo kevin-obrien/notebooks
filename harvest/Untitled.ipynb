{
 "cells": [
  {
   "cell_type": "code",
   "execution_count": 1,
   "id": "daa6080e",
   "metadata": {},
   "outputs": [],
   "source": [
    "from erddapy import ERDDAP\n",
    "import pandas as pd"
   ]
  },
  {
   "cell_type": "code",
   "execution_count": 2,
   "id": "3df782f6",
   "metadata": {},
   "outputs": [],
   "source": [
    "server_url = \"http://localhost:8080/erddap\"\n",
    "e = ERDDAP(server=server_url, \n",
    "           protocol=\"tabledap\")\n",
    "e.response=\"csv\"\n",
    "e.dataset_id=\"mooring\""
   ]
  },
  {
   "cell_type": "code",
   "execution_count": 3,
   "id": "224065fb",
   "metadata": {},
   "outputs": [
    {
     "data": {
      "text/plain": [
       "'http://localhost:8080/erddap/search/advanced.json?page=1&itemsPerPage=1000000&protocol=tabledap&cdm_data_type=(ANY)&institution=(ANY)&ioos_category=(ANY)&keywords=(ANY)&long_name=(ANY)&standard_name=(ANY)&variableName=(ANY)&minLon=(ANY)&maxLon=(ANY)&minLat=(ANY)&maxLat=(ANY)&minTime=&maxTime=&searchFor=OOI'"
      ]
     },
     "execution_count": 3,
     "metadata": {},
     "output_type": "execute_result"
    }
   ],
   "source": [
    "e.get_search_url(search_for=\"OOI\", response=\"json\")"
   ]
  },
  {
   "cell_type": "code",
   "execution_count": 4,
   "id": "618f8d04",
   "metadata": {},
   "outputs": [
    {
     "ename": "AttributeError",
     "evalue": "'ERDDAP' object has no attribute 'get_info'",
     "output_type": "error",
     "traceback": [
      "\u001b[0;31m---------------------------------------------------------------------------\u001b[0m",
      "\u001b[0;31mAttributeError\u001b[0m                            Traceback (most recent call last)",
      "Cell \u001b[0;32mIn[4], line 1\u001b[0m\n\u001b[0;32m----> 1\u001b[0m info \u001b[38;5;241m=\u001b[39m \u001b[43me\u001b[49m\u001b[38;5;241;43m.\u001b[39;49m\u001b[43mget_info\u001b[49m()\n",
      "\u001b[0;31mAttributeError\u001b[0m: 'ERDDAP' object has no attribute 'get_info'"
     ]
    }
   ],
   "source": [
    "info = e.get_info()"
   ]
  },
  {
   "cell_type": "code",
   "execution_count": 5,
   "id": "2267599e",
   "metadata": {},
   "outputs": [],
   "source": [
    "dataset_id=\"ooi\""
   ]
  },
  {
   "cell_type": "code",
   "execution_count": 6,
   "id": "516fdabf",
   "metadata": {},
   "outputs": [],
   "source": [
    "e.dataset_id=\"ooi\""
   ]
  },
  {
   "cell_type": "code",
   "execution_count": 7,
   "id": "49fb7748",
   "metadata": {},
   "outputs": [
    {
     "ename": "AttributeError",
     "evalue": "'ERDDAP' object has no attribute 'get_info'",
     "output_type": "error",
     "traceback": [
      "\u001b[0;31m---------------------------------------------------------------------------\u001b[0m",
      "\u001b[0;31mAttributeError\u001b[0m                            Traceback (most recent call last)",
      "Cell \u001b[0;32mIn[7], line 1\u001b[0m\n\u001b[0;32m----> 1\u001b[0m metadata \u001b[38;5;241m=\u001b[39m \u001b[43me\u001b[49m\u001b[38;5;241;43m.\u001b[39;49m\u001b[43mget_info\u001b[49m()\n",
      "\u001b[0;31mAttributeError\u001b[0m: 'ERDDAP' object has no attribute 'get_info'"
     ]
    }
   ],
   "source": [
    "metadata = e.get_info()"
   ]
  },
  {
   "cell_type": "code",
   "execution_count": null,
   "id": "19333f56",
   "metadata": {},
   "outputs": [],
   "source": []
  }
 ],
 "metadata": {
  "kernelspec": {
   "display_name": "Python 3 (ipykernel)",
   "language": "python",
   "name": "python3"
  },
  "language_info": {
   "codemirror_mode": {
    "name": "ipython",
    "version": 3
   },
   "file_extension": ".py",
   "mimetype": "text/x-python",
   "name": "python",
   "nbconvert_exporter": "python",
   "pygments_lexer": "ipython3",
   "version": "3.8.18"
  }
 },
 "nbformat": 4,
 "nbformat_minor": 5
}
